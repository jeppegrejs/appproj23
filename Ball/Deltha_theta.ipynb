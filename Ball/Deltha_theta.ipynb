{
 "cells": [
  {
   "cell_type": "code",
   "execution_count": 5,
   "metadata": {},
   "outputs": [],
   "source": [
    "import numpy as np\n"
   ]
  },
  {
   "cell_type": "code",
   "execution_count": 6,
   "metadata": {},
   "outputs": [],
   "source": [
    "## UNIT M/S**2\n",
    "a_norm = 1.55901 # is R to L\n",
    "ea_norm = 0.01392\n",
    "\n",
    "a_rev = 1.51055\n",
    "ea_rev = 0.01245\n",
    "\n",
    "## UNIT M\n",
    "height = 22.30e-2\n",
    "eheight = 0.1e-2\n",
    "#length of setup\n",
    "length = 90.2e-2\n",
    "elength = 0.1e-2\n",
    "\n",
    "\n",
    "def angle_from_trig(length, height):\n",
    "    return np.arctan(height/length)\n",
    "\n",
    "def eangle_from_trig(length, d_length, height, d_height):\n",
    "    return np.sqrt(\n",
    "        (length/(length**2 + height**2)*d_height)**2\n",
    "        +\n",
    "        (height/(length**2 + height**2)*d_length)**2\n",
    "    )\n"
   ]
  },
  {
   "cell_type": "code",
   "execution_count": 18,
   "metadata": {},
   "outputs": [
    {
     "data": {
      "text/plain": [
       "0.0039030634232329895"
      ]
     },
     "execution_count": 18,
     "metadata": {},
     "output_type": "execute_result"
    }
   ],
   "source": [
    "the = angle_from_trig(length, height)\n",
    "ethe = eangle_from_trig(length, elength, height, eheight)\n",
    "d_the_rad = (a_norm - a_rev)*np.sin(the)/((a_norm + a_rev)*np.cos(the))\n",
    "d_the_rad*180/np.pi\n",
    "d_the_rad\n"
   ]
  },
  {
   "cell_type": "code",
   "execution_count": 12,
   "metadata": {},
   "outputs": [],
   "source": [
    "def custom_sec(vin):\n",
    "    return 1/np.cos(vin)**2"
   ]
  },
  {
   "cell_type": "code",
   "execution_count": 17,
   "metadata": {},
   "outputs": [
    {
     "name": "stdout",
     "output_type": "stream",
     "text": [
      "1.0611218725571654\n"
     ]
    },
    {
     "data": {
      "text/plain": [
       "0.0018866145785239204"
      ]
     },
     "execution_count": 17,
     "metadata": {},
     "output_type": "execute_result"
    }
   ],
   "source": [
    "d_d_anorm = (2*a_rev * np.tan(the))/(a_norm + a_rev)**2\n",
    "d_d_arev= (-2*a_norm * np.tan(the))/(a_norm + a_rev)**2\n",
    "d_d_the = ((a_norm - a_rev)*custom_sec(the))/(a_norm-a_rev)\n",
    "np.sqrt((d_d_anorm*ea_norm)**2 + (d_d_arev*ea_rev)**2 + (d_d_the*ethe)**2)\n"
   ]
  },
  {
   "cell_type": "code",
   "execution_count": null,
   "metadata": {},
   "outputs": [],
   "source": []
  },
  {
   "cell_type": "code",
   "execution_count": null,
   "metadata": {},
   "outputs": [],
   "source": []
  }
 ],
 "metadata": {
  "kernelspec": {
   "display_name": "base",
   "language": "python",
   "name": "python3"
  },
  "language_info": {
   "codemirror_mode": {
    "name": "ipython",
    "version": 3
   },
   "file_extension": ".py",
   "mimetype": "text/x-python",
   "name": "python",
   "nbconvert_exporter": "python",
   "pygments_lexer": "ipython3",
   "version": "3.8.8"
  }
 },
 "nbformat": 4,
 "nbformat_minor": 2
}
