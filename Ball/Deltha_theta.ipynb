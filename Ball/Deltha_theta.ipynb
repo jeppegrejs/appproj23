{
 "cells": [
  {
   "cell_type": "code",
   "execution_count": 2,
   "metadata": {},
   "outputs": [],
   "source": [
    "import numpy as np\n"
   ]
  },
  {
   "cell_type": "code",
   "execution_count": 4,
   "metadata": {},
   "outputs": [],
   "source": [
    "## UNIT M/S**2\n",
    "a_norm = 1.55901 # is R to L\n",
    "ea_norm = 0.01392\n",
    "\n",
    "a_rev = 1.51055\n",
    "ea_rev = 0.01245\n",
    "\n",
    "## UNIT M\n",
    "height = 22.30e-2\n",
    "eheight = 0.1e-2\n",
    "#length of setup\n",
    "length = 90.2e-2\n",
    "elength = 0.1e-2\n",
    "\n",
    "\n",
    "def angle_from_trig(length, height):\n",
    "    return np.arctan(height/length)\n",
    "\n",
    "def eangle_from_trig(length, d_length, height, d_height):\n",
    "    return np.sqrt(\n",
    "        (length/(length**2 + height**2)*d_height)**2\n",
    "        +\n",
    "        (height/(length**2 + height**2)*d_length)**2\n",
    "    )\n"
   ]
  },
  {
   "cell_type": "code",
   "execution_count": 7,
   "metadata": {},
   "outputs": [
    {
     "data": {
      "text/plain": [
       "0.22362906132313368"
      ]
     },
     "execution_count": 7,
     "metadata": {},
     "output_type": "execute_result"
    }
   ],
   "source": [
    "the = angle_from_trig(length, height)\n",
    "d_the_rad = (a_norm - a_rev)*np.sin(the)/((a_norm + a_rev)*np.cos(the))\n",
    "d_the_rad*180/np.pi\n"
   ]
  },
  {
   "cell_type": "code",
   "execution_count": null,
   "metadata": {},
   "outputs": [],
   "source": []
  },
  {
   "cell_type": "code",
   "execution_count": null,
   "metadata": {},
   "outputs": [],
   "source": []
  }
 ],
 "metadata": {
  "kernelspec": {
   "display_name": "base",
   "language": "python",
   "name": "python3"
  },
  "language_info": {
   "codemirror_mode": {
    "name": "ipython",
    "version": 3
   },
   "file_extension": ".py",
   "mimetype": "text/x-python",
   "name": "python",
   "nbconvert_exporter": "python",
   "pygments_lexer": "ipython3",
   "version": "3.8.8"
  }
 },
 "nbformat": 4,
 "nbformat_minor": 2
}
